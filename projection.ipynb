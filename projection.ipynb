{
 "cells": [
  {
   "cell_type": "code",
   "execution_count": 1,
   "id": "539b4faa-256e-4818-a5b3-f2f79a67a589",
   "metadata": {},
   "outputs": [],
   "source": [
    "import numpy as np\n",
    "import matplotlib.pyplot as plt\n",
    "\n",
    "import torch\n",
    "import torch.optim as optim\n",
    "from torch.utils.data import DataLoader, TensorDataset\n",
    "\n",
    "from sensr import calc_sensitive_directions, compl_svd_projector, unprotected_direction\n",
    "from sensr import normalize_sensitive_directions, sample_perturbation, sample_perturbation\n",
    "\n",
    "from models import MLP\n",
    "from training import train_classifier"
   ]
  },
  {
   "cell_type": "code",
   "execution_count": 2,
   "id": "9d691d39-7a87-4fc7-a08a-15cb4cd5abac",
   "metadata": {},
   "outputs": [],
   "source": [
    "%load_ext autoreload\n",
    "%autoreload 2"
   ]
  },
  {
   "cell_type": "code",
   "execution_count": 3,
   "id": "24053fda-e141-4994-b676-87c1571e2f67",
   "metadata": {},
   "outputs": [],
   "source": [
    "def gen_synth_data(ds_size=6000):\n",
    "    pr_priv_fav=0.1\n",
    "    pr_unpriv_fav=1 - pr_priv_fav\n",
    "    \n",
    "    n_priv_fav = int((ds_size//2) * pr_priv_fav)\n",
    "    n_unpriv_fav =int((ds_size//2) * pr_unpriv_fav)\n",
    "    n_priv_unfav = int((ds_size//2) * (1-pr_priv_fav))\n",
    "    n_unpriv_unfav = int((ds_size//2) * (1-pr_unpriv_fav))\n",
    "  \n",
    "     \n",
    "    x_priv_fav = torch.cat([torch.normal(mean=1, std=1, size=(n_priv_fav, 1)), torch.ones(n_priv_fav, 1)], dim=1)\n",
    "    x_unpriv_fav = torch.cat([torch.normal(mean=1, std=1, size=(n_unpriv_fav, 1)), torch.zeros(n_unpriv_fav, 1)], dim=1)\n",
    "    \n",
    "    x_priv_unfav = torch.cat([torch.normal(mean=0, std=1, size=(n_priv_unfav, 1)), torch.ones(n_priv_unfav, 1)], dim=1)\n",
    "    x_unpriv_unfav = torch.cat([torch.normal(mean=0, std=1, size=(n_unpriv_unfav, 1)), torch.zeros(n_unpriv_unfav, 1)], dim=1)\n",
    "    \n",
    "    synth_inputs = torch.cat((x_priv_fav, x_unpriv_fav, x_priv_unfav, x_unpriv_unfav), dim=0)\n",
    "    synth_labels = torch.cat( (torch.ones(n_priv_fav + n_unpriv_fav), torch.zeros(n_priv_unfav + n_unpriv_unfav)), dim=0)\n",
    "    synth_metas = torch.cat( (torch.ones(n_priv_fav), torch.zeros(n_unpriv_fav), torch.ones(n_priv_unfav), torch.zeros(n_unpriv_unfav)), dim=0)\n",
    "    \n",
    "    return synth_inputs, synth_labels, synth_metas"
   ]
  },
  {
   "cell_type": "code",
   "execution_count": 4,
   "id": "b2573629-bf8d-4b6e-ad5b-e75ee5ef2707",
   "metadata": {},
   "outputs": [],
   "source": [
    "x, y, s = gen_synth_data()"
   ]
  },
  {
   "cell_type": "code",
   "execution_count": 5,
   "id": "1bf44315-ebf8-4c78-9103-7e8e2a3e6511",
   "metadata": {},
   "outputs": [
    {
     "data": {
      "text/plain": [
       "<matplotlib.collections.PathCollection at 0x1e1d5bea0d0>"
      ]
     },
     "execution_count": 5,
     "metadata": {},
     "output_type": "execute_result"
    },
    {
     "data": {
      "image/png": "[encoded data removed]",
      "text/plain": [
       "<Figure size 432x288 with 1 Axes>"
      ]
     },
     "metadata": {
      "needs_background": "light"
     },
     "output_type": "display_data"
    }
   ],
   "source": [
    "plt.scatter(x[:,0], x[:,1], c=y)"
   ]
  },
  {
   "cell_type": "code",
   "execution_count": 6,
   "id": "54de8f6c-11ab-4037-9831-c25a77779f88",
   "metadata": {},
   "outputs": [
    {
     "data": {
      "text/plain": [
       "<matplotlib.collections.PathCollection at 0x1e1d5cfe4c0>"
      ]
     },
     "execution_count": 6,
     "metadata": {},
     "output_type": "execute_result"
    },
    {
     "data": {
      "image/png": "[encoded data removed]",
      "text/plain": [
       "<Figure size 432x288 with 1 Axes>"
      ]
     },
     "metadata": {
      "needs_background": "light"
     },
     "output_type": "display_data"
    }
   ],
   "source": [
    "plt.scatter(x[:,0], x[:,1], c=s)"
   ]
  },
  {
   "cell_type": "code",
   "execution_count": 7,
   "id": "2bf95340-0bdf-4389-8e97-aca586d1a0a4",
   "metadata": {},
   "outputs": [
    {
     "data": {
      "text/plain": [
       "array([[-0.22035346, 15.18567678]])"
      ]
     },
     "execution_count": 7,
     "metadata": {},
     "output_type": "execute_result"
    }
   ],
   "source": [
    "sensitive_directions = calc_sensitive_directions(x.numpy(), s.numpy())\n",
    "sensitive_directions"
   ]
  },
  {
   "cell_type": "code",
   "execution_count": 8,
   "id": "75940508-a225-49c3-a3f7-b7d28f9a1cd6",
   "metadata": {},
   "outputs": [
    {
     "data": {
      "text/plain": [
       "array([[ 2.10513529e-04, -1.45075571e-02],\n",
       "       [-1.45075571e-02,  9.99789486e-01]])"
      ]
     },
     "execution_count": 8,
     "metadata": {},
     "output_type": "execute_result"
    }
   ],
   "source": [
    "sensitive_directions_ = normalize_sensitive_directions(sensitive_directions.T)\n",
    "sensitive_directions_"
   ]
  },
  {
   "cell_type": "code",
   "execution_count": 9,
   "id": "f75966d5-2c65-47b8-a73c-d6293e1b1da9",
   "metadata": {},
   "outputs": [
    {
     "data": {
      "text/plain": [
       "array([[9.99789486e-01, 1.45075571e-02],\n",
       "       [1.45075571e-02, 2.10513529e-04]])"
      ]
     },
     "execution_count": 9,
     "metadata": {},
     "output_type": "execute_result"
    }
   ],
   "source": [
    "proj = compl_svd_projector(sensitive_directions)\n",
    "proj"
   ]
  },
  {
   "cell_type": "code",
   "execution_count": 10,
   "id": "d7a15fb6-c343-453e-a03d-b9365d641bb6",
   "metadata": {},
   "outputs": [],
   "source": [
    "xp = unprotected_direction(x, sensitive_directions_)"
   ]
  },
  {
   "cell_type": "code",
   "execution_count": 11,
   "id": "c49d4939-5759-4005-92a0-98e7001f98e9",
   "metadata": {},
   "outputs": [
    {
     "data": {
      "text/plain": [
       "(torch.Size([5999, 2]), torch.Size([5999, 2]))"
      ]
     },
     "execution_count": 11,
     "metadata": {},
     "output_type": "execute_result"
    }
   ],
   "source": [
    "x.shape, xp.shape"
   ]
  },
  {
   "cell_type": "code",
   "execution_count": 12,
   "id": "d87c9eb1-63e5-4f63-8eb2-e84723aaa32e",
   "metadata": {},
   "outputs": [
    {
     "data": {
      "text/plain": [
       "<matplotlib.collections.PathCollection at 0x1e1ddef83d0>"
      ]
     },
     "execution_count": 12,
     "metadata": {},
     "output_type": "execute_result"
    },
    {
     "data": {
      "image/png": "[encoded data removed]",
      "text/plain": [
       "<Figure size 432x288 with 1 Axes>"
      ]
     },
     "metadata": {
      "needs_background": "light"
     },
     "output_type": "display_data"
    }
   ],
   "source": [
    "plt.scatter(xp[:,0], xp[:,1], c=y)"
   ]
  },
  {
   "cell_type": "code",
   "execution_count": 13,
   "id": "85422804-c84f-4793-85a4-8c2612b1bcef",
   "metadata": {},
   "outputs": [
    {
     "data": {
      "text/plain": [
       "<matplotlib.collections.PathCollection at 0x1e1ddf4f4f0>"
      ]
     },
     "execution_count": 13,
     "metadata": {},
     "output_type": "execute_result"
    },
    {
     "data": {
      "image/png": "[encoded data removed]",
      "text/plain": [
       "<Figure size 432x288 with 1 Axes>"
      ]
     },
     "metadata": {
      "needs_background": "light"
     },
     "output_type": "display_data"
    }
   ],
   "source": [
    "plt.scatter(xp[:,0], xp[:,1], c=s)"
   ]
  },
  {
   "cell_type": "code",
   "execution_count": 14,
   "id": "fb834fcc-8f97-453b-9ec3-c41712164757",
   "metadata": {},
   "outputs": [],
   "source": [
    "batch_size = 128\n",
    "\n",
    "dataset = TensorDataset(x.float(), y.long(), s.long())\n",
    "loader = DataLoader(dataset, batch_size=batch_size, shuffle=True)"
   ]
  },
  {
   "cell_type": "code",
   "execution_count": 15,
   "id": "89d752ea-0df9-4646-a3d5-a029beb9597b",
   "metadata": {},
   "outputs": [],
   "source": [
    "model = MLP(2, [10, 10], 2)"
   ]
  },
  {
   "cell_type": "code",
   "execution_count": 16,
   "id": "385fbd43-00b1-4b0f-8ac5-3744a4e8b019",
   "metadata": {},
   "outputs": [],
   "source": [
    "optimizer_clf = optim.Adam(model.parameters(), lr=0.005)\n",
    "loss_criterion = torch.nn.CrossEntropyLoss()"
   ]
  },
  {
   "cell_type": "code",
   "execution_count": 17,
   "id": "f93c1865-f2c8-43a9-929e-ff16307c264b",
   "metadata": {},
   "outputs": [
    {
     "name": "stderr",
     "output_type": "stream",
     "text": [
      "Average Clf epoch loss: 0.2855016402107604: 100%|██████████████████████████████████████| 20/20 [00:03<00:00,  6.39it/s]"
     ]
    },
    {
     "name": "stdout",
     "output_type": "stream",
     "text": [
      "Average Clf batch loss:  0.3016930599161919\n"
     ]
    },
    {
     "name": "stderr",
     "output_type": "stream",
     "text": [
      "\n"
     ]
    }
   ],
   "source": [
    "model = train_classifier(model, optimizer_clf, loader, loss_criterion, 20, \"cpu\")"
   ]
  },
  {
   "cell_type": "code",
   "execution_count": 18,
   "id": "bbecdeee-347d-44d9-8750-b7d2398a9ed3",
   "metadata": {},
   "outputs": [
    {
     "data": {
      "text/plain": [
       "0.9029838306384398"
      ]
     },
     "execution_count": 18,
     "metadata": {},
     "output_type": "execute_result"
    }
   ],
   "source": [
    "yh = model(x)\n",
    "np.mean(yh.detach().numpy().argmax(-1) == y.numpy())"
   ]
  },
  {
   "cell_type": "code",
   "execution_count": 19,
   "id": "718e213f-b6c2-4e5d-97f5-31aab03816de",
   "metadata": {},
   "outputs": [],
   "source": [
    "modelp = MLP(2, [10, 10], 2)"
   ]
  },
  {
   "cell_type": "code",
   "execution_count": 20,
   "id": "00e9b8c8-370f-4363-ac40-02512dccd09a",
   "metadata": {},
   "outputs": [
    {
     "name": "stderr",
     "output_type": "stream",
     "text": [
      "Average Clf epoch loss: 0.2864726166775886: 100%|██████████████████████████████████████| 20/20 [00:03<00:00,  5.82it/s]"
     ]
    },
    {
     "name": "stdout",
     "output_type": "stream",
     "text": [
      "Average Clf batch loss:  0.29817870587427564\n"
     ]
    },
    {
     "name": "stderr",
     "output_type": "stream",
     "text": [
      "\n"
     ]
    }
   ],
   "source": [
    "optimizer_clf = optim.Adam(modelp.parameters(), lr=0.005)\n",
    "modelp = train_classifier(modelp, optimizer_clf, loader, loss_criterion, 20, \"cpu\")"
   ]
  },
  {
   "cell_type": "code",
   "execution_count": 21,
   "id": "ba7220c3-d70e-4ef7-a5e7-a994c9d5e3c3",
   "metadata": {},
   "outputs": [
    {
     "data": {
      "text/plain": [
       "0.9026504417402901"
      ]
     },
     "execution_count": 21,
     "metadata": {},
     "output_type": "execute_result"
    }
   ],
   "source": [
    "yh = modelp(x)\n",
    "np.mean(yh.detach().numpy().argmax(-1) == y.numpy())"
   ]
  },
  {
   "cell_type": "code",
   "execution_count": 22,
   "id": "e82e8c35-789f-42cd-930b-a4978d964683",
   "metadata": {},
   "outputs": [],
   "source": [
    "xp = sample_perturbation(model, x, y.long(), torch.FloatTensor(sensitive_directions_), learning_rate=1, num_steps=1000, regularizer=100)"
   ]
  },
  {
   "cell_type": "code",
   "execution_count": 23,
   "id": "f4be50e9-b772-422a-b9ea-aed0a2231381",
   "metadata": {},
   "outputs": [
    {
     "data": {
      "text/plain": [
       "<matplotlib.collections.PathCollection at 0x1e1ddf80580>"
      ]
     },
     "execution_count": 23,
     "metadata": {},
     "output_type": "execute_result"
    },
    {
     "data": {
      "image/png": "[encoded data removed]",
      "text/plain": [
       "<Figure size 432x288 with 1 Axes>"
      ]
     },
     "metadata": {
      "needs_background": "light"
     },
     "output_type": "display_data"
    }
   ],
   "source": [
    "plt.scatter(xp[:,0].detach().numpy(), xp[:,1].detach().numpy(), c=y)"
   ]
  },
  {
   "cell_type": "code",
   "execution_count": 24,
   "id": "2bbe4365-0356-4495-8a42-c640c9cbca04",
   "metadata": {},
   "outputs": [
    {
     "data": {
      "text/plain": [
       "<matplotlib.collections.PathCollection at 0x1e1de03e1c0>"
      ]
     },
     "execution_count": 24,
     "metadata": {},
     "output_type": "execute_result"
    },
    {
     "data": {
      "image/png": "[encoded data removed]",
      "text/plain": [
       "<Figure size 432x288 with 1 Axes>"
      ]
     },
     "metadata": {
      "needs_background": "light"
     },
     "output_type": "display_data"
    }
   ],
   "source": [
    "plt.scatter(xp[:,0].detach().numpy(), xp[:,1].detach().numpy(), c=s)"
   ]
  },
  {
   "cell_type": "code",
   "execution_count": null,
   "id": "c3a7c4a1-e2d6-44eb-add0-fe5019ddc54b",
   "metadata": {},
   "outputs": [],
   "source": []
  }
 ],
 "metadata": {
  "kernelspec": {
   "display_name": "Python 3 (ipykernel)",
   "language": "python",
   "name": "python3"
  },
  "language_info": {
   "codemirror_mode": {
    "name": "ipython",
    "version": 3
   },
   "file_extension": ".py",
   "mimetype": "text/x-python",
   "name": "python",
   "nbconvert_exporter": "python",
   "pygments_lexer": "ipython3",
   "version": "3.8.8"
  }
 },
 "nbformat": 4,
 "nbformat_minor": 5
}
