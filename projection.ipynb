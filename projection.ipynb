{
 "cells": [
  {
   "cell_type": "code",
   "execution_count": 1,
   "id": "539b4faa-256e-4818-a5b3-f2f79a67a589",
   "metadata": {},
   "outputs": [],
   "source": [
    "import numpy as np\n",
    "import matplotlib.pyplot as plt\n",
    "\n",
    "import torch\n",
    "import torch.optim as optim\n",
    "from torch.utils.data import DataLoader, TensorDataset\n",
    "\n",
    "from sensr import calc_sensitive_directions, compl_svd_projector, unprotected_direction\n",
    "from sensr import normalize_sensitive_directions, sample_perturbation, sample_perturbation\n",
    "\n",
    "from models import MLP\n",
    "from training import train_classifier"
   ]
  },
  {
   "cell_type": "code",
   "execution_count": 2,
   "id": "46ebaeb9-44ae-4dd7-ba27-76ac8ac41341",
   "metadata": {},
   "outputs": [],
   "source": [
    "def plot_decision(model, x, y):\n",
    "    plot_step = 0.02\n",
    "    X = x.cpu().numpy()\n",
    "    Y = y.cpu().numpy()\n",
    "    x_min, x_max = X[:, 0].min() - 1, X[:, 0].max() + 1\n",
    "    y_min, y_max = X[:, 1].min() - 1, X[:, 1].max() + 1\n",
    "    xx, yy = np.meshgrid(\n",
    "        np.arange(x_min, x_max, plot_step), np.arange(y_min, y_max, plot_step)\n",
    "    )\n",
    "    plt.tight_layout(h_pad=0.5, w_pad=0.5, pad=2.5)\n",
    "    \n",
    "    xs = np.c_[xx.ravel(), yy.ravel()]\n",
    "    Z = model(torch.FloatTensor(xs)).detach().cpu().numpy()[:,1]\n",
    "    Z = Z.reshape(xx.shape)\n",
    "    cs = plt.contourf(xx, yy, Z, cmap=plt.cm.RdYlBu)\n",
    "    plt.scatter(X[:,0], X[:,1], c=Y)"
   ]
  },
  {
   "cell_type": "code",
   "execution_count": 3,
   "id": "9d691d39-7a87-4fc7-a08a-15cb4cd5abac",
   "metadata": {},
   "outputs": [],
   "source": [
    "%load_ext autoreload\n",
    "%autoreload 2"
   ]
  },
  {
   "cell_type": "code",
   "execution_count": 213,
   "id": "24053fda-e141-4994-b676-87c1571e2f67",
   "metadata": {},
   "outputs": [],
   "source": [
    "def gen_synth_data(ds_size=6000):\n",
    "    pr_priv_fav=0.3\n",
    "    pr_unpriv_fav=1 - pr_priv_fav\n",
    "    \n",
    "    n_priv_fav = int((ds_size//2) * pr_priv_fav)\n",
    "    n_unpriv_fav =int((ds_size//2) * pr_unpriv_fav)\n",
    "    n_priv_unfav = int((ds_size//2) * (1-pr_priv_fav))\n",
    "    n_unpriv_unfav = int((ds_size//2) * (1-pr_unpriv_fav))\n",
    "  \n",
    "     \n",
    "    x_priv_fav = torch.cat([torch.normal(mean=2, std=1, size=(n_priv_fav, 1)), torch.ones(n_priv_fav, 1)], dim=1)\n",
    "    x_unpriv_fav = torch.cat([torch.normal(mean=2, std=1, size=(n_unpriv_fav, 1)), torch.zeros(n_unpriv_fav, 1)], dim=1)\n",
    "    \n",
    "    x_priv_unfav = torch.cat([torch.normal(mean=0, std=1, size=(n_priv_unfav, 1)), torch.ones(n_priv_unfav, 1)], dim=1)\n",
    "    x_unpriv_unfav = torch.cat([torch.normal(mean=0, std=1, size=(n_unpriv_unfav, 1)), torch.zeros(n_unpriv_unfav, 1)], dim=1)\n",
    "    \n",
    "    synth_inputs = torch.cat((x_priv_fav, x_unpriv_fav, x_priv_unfav, x_unpriv_unfav), dim=0)\n",
    "    synth_labels = torch.cat( (torch.ones(n_priv_fav + n_unpriv_fav), torch.zeros(n_priv_unfav + n_unpriv_unfav)), dim=0)\n",
    "    synth_metas = torch.cat( (torch.ones(n_priv_fav), torch.zeros(n_unpriv_fav), torch.ones(n_priv_unfav), torch.zeros(n_unpriv_unfav)), dim=0)\n",
    "    \n",
    "    return synth_inputs, synth_labels, synth_metas"
   ]
  },
  {
   "cell_type": "code",
   "execution_count": 214,
   "id": "b2573629-bf8d-4b6e-ad5b-e75ee5ef2707",
   "metadata": {},
   "outputs": [],
   "source": [
    "x, y, s = gen_synth_data()"
   ]
  },
  {
   "cell_type": "code",
   "execution_count": 215,
   "id": "1bf44315-ebf8-4c78-9103-7e8e2a3e6511",
   "metadata": {},
   "outputs": [
    {
     "data": {
      "text/plain": [
       "<matplotlib.collections.PathCollection at 0x202db003a60>"
      ]
     },
     "execution_count": 215,
     "metadata": {},
     "output_type": "execute_result"
    },
    {
     "data": {
      "image/png": "[encoded data removed]",
      "text/plain": [
       "<Figure size 432x288 with 1 Axes>"
      ]
     },
     "metadata": {
      "needs_background": "light"
     },
     "output_type": "display_data"
    }
   ],
   "source": [
    "plt.scatter(x[:,0], x[:,1], c=y)"
   ]
  },
  {
   "cell_type": "code",
   "execution_count": 216,
   "id": "54de8f6c-11ab-4037-9831-c25a77779f88",
   "metadata": {},
   "outputs": [
    {
     "data": {
      "text/plain": [
       "<matplotlib.collections.PathCollection at 0x202de410a00>"
      ]
     },
     "execution_count": 216,
     "metadata": {},
     "output_type": "execute_result"
    },
    {
     "data": {
      "image/png": "[encoded data removed]",
      "text/plain": [
       "<Figure size 432x288 with 1 Axes>"
      ]
     },
     "metadata": {
      "needs_background": "light"
     },
     "output_type": "display_data"
    }
   ],
   "source": [
    "plt.scatter(x[:,0], x[:,1], c=s)"
   ]
  },
  {
   "cell_type": "code",
   "execution_count": 217,
   "id": "2bf95340-0bdf-4389-8e97-aca586d1a0a4",
   "metadata": {},
   "outputs": [
    {
     "data": {
      "text/plain": [
       "array([[-0.21351026, 15.20854584]])"
      ]
     },
     "execution_count": 217,
     "metadata": {},
     "output_type": "execute_result"
    }
   ],
   "source": [
    "sensitive_directions = calc_sensitive_directions(x.numpy(), s.numpy())\n",
    "sensitive_directions"
   ]
  },
  {
   "cell_type": "code",
   "execution_count": 218,
   "id": "75940508-a225-49c3-a3f7-b7d28f9a1cd6",
   "metadata": {},
   "outputs": [
    {
     "data": {
      "text/plain": [
       "array([[ 1.97050047e-04, -1.40360685e-02],\n",
       "       [-1.40360685e-02,  9.99802950e-01]])"
      ]
     },
     "execution_count": 218,
     "metadata": {},
     "output_type": "execute_result"
    }
   ],
   "source": [
    "sensitive_directions_ = normalize_sensitive_directions(sensitive_directions.T)\n",
    "sensitive_directions_"
   ]
  },
  {
   "cell_type": "code",
   "execution_count": 219,
   "id": "f75966d5-2c65-47b8-a73c-d6293e1b1da9",
   "metadata": {},
   "outputs": [
    {
     "data": {
      "text/plain": [
       "array([[9.99802950e-01, 1.40360685e-02],\n",
       "       [1.40360685e-02, 1.97050047e-04]])"
      ]
     },
     "execution_count": 219,
     "metadata": {},
     "output_type": "execute_result"
    }
   ],
   "source": [
    "proj = compl_svd_projector(sensitive_directions)\n",
    "proj"
   ]
  },
  {
   "cell_type": "code",
   "execution_count": 247,
   "id": "d7a15fb6-c343-453e-a03d-b9365d641bb6",
   "metadata": {},
   "outputs": [],
   "source": [
    "xp = unprotected_direction(x, sensitive_directions_)\n",
    "# xp = x @ proj"
   ]
  },
  {
   "cell_type": "code",
   "execution_count": 248,
   "id": "c49d4939-5759-4005-92a0-98e7001f98e9",
   "metadata": {},
   "outputs": [
    {
     "data": {
      "text/plain": [
       "(torch.Size([6000, 2]), torch.Size([6000, 2]))"
      ]
     },
     "execution_count": 248,
     "metadata": {},
     "output_type": "execute_result"
    }
   ],
   "source": [
    "x.shape, xp.shape"
   ]
  },
  {
   "cell_type": "code",
   "execution_count": 249,
   "id": "d87c9eb1-63e5-4f63-8eb2-e84723aaa32e",
   "metadata": {},
   "outputs": [
    {
     "data": {
      "text/plain": [
       "<matplotlib.collections.PathCollection at 0x202e27410d0>"
      ]
     },
     "execution_count": 249,
     "metadata": {},
     "output_type": "execute_result"
    },
    {
     "data": {
      "image/png": "[encoded data removed]",
      "text/plain": [
       "<Figure size 432x288 with 1 Axes>"
      ]
     },
     "metadata": {
      "needs_background": "light"
     },
     "output_type": "display_data"
    }
   ],
   "source": [
    "plt.scatter(xp[:,0], xp[:,1], c=y)"
   ]
  },
  {
   "cell_type": "code",
   "execution_count": 250,
   "id": "85422804-c84f-4793-85a4-8c2612b1bcef",
   "metadata": {},
   "outputs": [
    {
     "data": {
      "text/plain": [
       "<matplotlib.collections.PathCollection at 0x202e3835b20>"
      ]
     },
     "execution_count": 250,
     "metadata": {},
     "output_type": "execute_result"
    },
    {
     "data": {
      "image/png": "[encoded data removed]",
      "text/plain": [
       "<Figure size 432x288 with 1 Axes>"
      ]
     },
     "metadata": {
      "needs_background": "light"
     },
     "output_type": "display_data"
    }
   ],
   "source": [
    "plt.scatter(xp[:,0], xp[:,1], c=s)"
   ]
  },
  {
   "cell_type": "code",
   "execution_count": 224,
   "id": "fb834fcc-8f97-453b-9ec3-c41712164757",
   "metadata": {},
   "outputs": [],
   "source": [
    "batch_size = 128\n",
    "\n",
    "dataset = TensorDataset(x.float(), y.long(), s.long())\n",
    "loader = DataLoader(dataset, batch_size=batch_size, shuffle=True)"
   ]
  },
  {
   "cell_type": "code",
   "execution_count": 225,
   "id": "89d752ea-0df9-4646-a3d5-a029beb9597b",
   "metadata": {},
   "outputs": [],
   "source": [
    "model = MLP(2, [10, 10], 2)"
   ]
  },
  {
   "cell_type": "code",
   "execution_count": 226,
   "id": "385fbd43-00b1-4b0f-8ac5-3744a4e8b019",
   "metadata": {},
   "outputs": [],
   "source": [
    "optimizer_clf = optim.Adam(model.parameters(), lr=0.005)\n",
    "loss_criterion = torch.nn.CrossEntropyLoss()"
   ]
  },
  {
   "cell_type": "code",
   "execution_count": 227,
   "id": "f93c1865-f2c8-43a9-929e-ff16307c264b",
   "metadata": {},
   "outputs": [
    {
     "name": "stderr",
     "output_type": "stream",
     "text": [
      "Average Clf epoch loss: 0.3217211273756433: 100%|████████████████████████████████████| 100/100 [00:15<00:00,  6.58it/s]"
     ]
    },
    {
     "name": "stdout",
     "output_type": "stream",
     "text": [
      "Average Clf batch loss:  0.3229967731934913\n"
     ]
    },
    {
     "name": "stderr",
     "output_type": "stream",
     "text": [
      "\n"
     ]
    }
   ],
   "source": [
    "model = train_classifier(model, optimizer_clf, loader, loss_criterion, 100, \"cpu\")"
   ]
  },
  {
   "cell_type": "code",
   "execution_count": 228,
   "id": "a8212740-933c-4130-8611-cbcdb6eb1d87",
   "metadata": {},
   "outputs": [
    {
     "data": {
      "image/png": "[encoded data removed]",
      "text/plain": [
       "<Figure size 432x288 with 1 Axes>"
      ]
     },
     "metadata": {
      "needs_background": "light"
     },
     "output_type": "display_data"
    }
   ],
   "source": [
    "plot_decision(model, x, y)"
   ]
  },
  {
   "cell_type": "code",
   "execution_count": 229,
   "id": "bbecdeee-347d-44d9-8750-b7d2398a9ed3",
   "metadata": {},
   "outputs": [
    {
     "data": {
      "text/plain": [
       "0.8591666666666666"
      ]
     },
     "execution_count": 229,
     "metadata": {},
     "output_type": "execute_result"
    }
   ],
   "source": [
    "yh = model(x)\n",
    "np.mean(yh.detach().numpy().argmax(-1) == y.numpy())"
   ]
  },
  {
   "cell_type": "code",
   "execution_count": 230,
   "id": "c68ce8eb-1150-4550-9d4b-323602b3d9fd",
   "metadata": {},
   "outputs": [],
   "source": [
    "batch_size = 128\n",
    "\n",
    "dataset = TensorDataset(xp.float(), y.long(), s.long())\n",
    "loader = DataLoader(dataset, batch_size=batch_size, shuffle=True)"
   ]
  },
  {
   "cell_type": "code",
   "execution_count": 231,
   "id": "718e213f-b6c2-4e5d-97f5-31aab03816de",
   "metadata": {},
   "outputs": [
    {
     "name": "stderr",
     "output_type": "stream",
     "text": [
      "Average Clf epoch loss: 0.36043960426716093: 100%|███████████████████████████████████| 100/100 [00:14<00:00,  6.70it/s]"
     ]
    },
    {
     "name": "stdout",
     "output_type": "stream",
     "text": [
      "Average Clf batch loss:  0.36227647802931195\n"
     ]
    },
    {
     "name": "stderr",
     "output_type": "stream",
     "text": [
      "\n"
     ]
    }
   ],
   "source": [
    "modelp = MLP(2, [10, 10], 2)\n",
    "optimizer_clf = optim.Adam(modelp.parameters(), lr=0.005)\n",
    "modelp = train_classifier(modelp, optimizer_clf, loader, loss_criterion, 100, \"cpu\")"
   ]
  },
  {
   "cell_type": "code",
   "execution_count": 232,
   "id": "d35ddc8e-aa37-4e65-9909-143a6694e406",
   "metadata": {},
   "outputs": [
    {
     "data": {
      "image/png": "[encoded data removed]",
      "text/plain": [
       "<Figure size 432x288 with 1 Axes>"
      ]
     },
     "metadata": {
      "needs_background": "light"
     },
     "output_type": "display_data"
    }
   ],
   "source": [
    "plot_decision(modelp, xp, y)"
   ]
  },
  {
   "cell_type": "code",
   "execution_count": 233,
   "id": "ba7220c3-d70e-4ef7-a5e7-a994c9d5e3c3",
   "metadata": {},
   "outputs": [
    {
     "data": {
      "text/plain": [
       "0.8375"
      ]
     },
     "execution_count": 233,
     "metadata": {},
     "output_type": "execute_result"
    }
   ],
   "source": [
    "yh = modelp(xp.float())\n",
    "np.mean(yh.detach().numpy().argmax(-1) == y.numpy())"
   ]
  },
  {
   "cell_type": "code",
   "execution_count": 319,
   "id": "e82e8c35-789f-42cd-930b-a4978d964683",
   "metadata": {},
   "outputs": [],
   "source": [
    "xp = sample_perturbation(model, x, y.long(), sensitive_directions, learning_rate=.001, num_steps=10, regularizer=100)\n",
    "xp_ = (xp - xp.min(0, keepdim=True)[0])/(xp.max(0, keepdim=True)[0]-xp.min(0, keepdim=True)[0])"
   ]
  },
  {
   "cell_type": "code",
   "execution_count": 320,
   "id": "f4be50e9-b772-422a-b9ea-aed0a2231381",
   "metadata": {},
   "outputs": [
    {
     "data": {
      "text/plain": [
       "<matplotlib.collections.PathCollection at 0x202e8d62610>"
      ]
     },
     "execution_count": 320,
     "metadata": {},
     "output_type": "execute_result"
    },
    {
     "data": {
      "image/png": "[encoded data removed]",
      "text/plain": [
       "<Figure size 432x288 with 1 Axes>"
      ]
     },
     "metadata": {
      "needs_background": "light"
     },
     "output_type": "display_data"
    },
    {
     "data": {
      "image/png": "[encoded data removed]",
      "text/plain": [
       "<Figure size 432x288 with 1 Axes>"
      ]
     },
     "metadata": {
      "needs_background": "light"
     },
     "output_type": "display_data"
    }
   ],
   "source": [
    "plt.scatter(x[:,0].detach().numpy(), x[:,1].detach().numpy(), c=y)\n",
    "plt.figure()\n",
    "plt.scatter(xp[:,0].detach().numpy(), xp[:,1].detach().numpy(), c=y)"
   ]
  },
  {
   "cell_type": "code",
   "execution_count": 286,
   "id": "2bbe4365-0356-4495-8a42-c640c9cbca04",
   "metadata": {},
   "outputs": [
    {
     "data": {
      "text/plain": [
       "<matplotlib.collections.PathCollection at 0x202e6597a60>"
      ]
     },
     "execution_count": 286,
     "metadata": {},
     "output_type": "execute_result"
    },
    {
     "data": {
      "image/png": "[encoded data removed]",
      "text/plain": [
       "<Figure size 432x288 with 1 Axes>"
      ]
     },
     "metadata": {
      "needs_background": "light"
     },
     "output_type": "display_data"
    },
    {
     "data": {
      "image/png": "[encoded data removed]",
      "text/plain": [
       "<Figure size 432x288 with 1 Axes>"
      ]
     },
     "metadata": {
      "needs_background": "light"
     },
     "output_type": "display_data"
    }
   ],
   "source": [
    "plt.scatter(x[:,0].detach().numpy(), x[:,1].detach().numpy(), c=s)\n",
    "plt.figure()\n",
    "plt.scatter(xp[:,0].detach().numpy(), xp[:,1].detach().numpy(), c=s)"
   ]
  },
  {
   "cell_type": "code",
   "execution_count": 139,
   "id": "996d496e-3576-492d-9c95-9cbfc90f433b",
   "metadata": {},
   "outputs": [],
   "source": [
    "batch_size = 128\n",
    "\n",
    "dataset = TensorDataset(xp_.float(), y.long(), s.long())\n",
    "loader = DataLoader(dataset, batch_size=batch_size, shuffle=True)"
   ]
  },
  {
   "cell_type": "code",
   "execution_count": 140,
   "id": "4531e7ad-c8fb-418f-9edc-61834bb6a985",
   "metadata": {},
   "outputs": [
    {
     "name": "stderr",
     "output_type": "stream",
     "text": [
      "Average Clf epoch loss: 0.5425973020969553: 100%|████████████████████████████████████| 100/100 [00:27<00:00,  3.70it/s]"
     ]
    },
    {
     "name": "stdout",
     "output_type": "stream",
     "text": [
      "Average Clf batch loss:  0.5520841652535378\n"
     ]
    },
    {
     "name": "stderr",
     "output_type": "stream",
     "text": [
      "\n"
     ]
    }
   ],
   "source": [
    "modelp = MLP(2, [10, 10], 2)\n",
    "optimizer_clf = optim.Adam(modelp.parameters(), lr=0.005)\n",
    "modelp = train_classifier(modelp, optimizer_clf, loader, loss_criterion, 100, \"cpu\")"
   ]
  },
  {
   "cell_type": "code",
   "execution_count": 141,
   "id": "33027706-d424-4a94-be9d-edd90002ee45",
   "metadata": {},
   "outputs": [
    {
     "data": {
      "image/png": "[encoded data removed]",
      "text/plain": [
       "<Figure size 432x288 with 1 Axes>"
      ]
     },
     "metadata": {
      "needs_background": "light"
     },
     "output_type": "display_data"
    }
   ],
   "source": [
    "plot_decision(modelp, xp_, y)"
   ]
  },
  {
   "cell_type": "code",
   "execution_count": 142,
   "id": "cbaf71cd-97e4-4924-9718-a100ffeeb25d",
   "metadata": {},
   "outputs": [
    {
     "data": {
      "text/plain": [
       "0.45666666666666667"
      ]
     },
     "execution_count": 142,
     "metadata": {},
     "output_type": "execute_result"
    }
   ],
   "source": [
    "yh = modelp(x)\n",
    "np.mean(yh.detach().numpy().argmax(-1) == y.numpy())"
   ]
  },
  {
   "cell_type": "code",
   "execution_count": 143,
   "id": "7fefe1cd-4bf1-4d78-8e4c-cfa75ec78d6d",
   "metadata": {},
   "outputs": [
    {
     "data": {
      "text/plain": [
       "0.6786666666666666"
      ]
     },
     "execution_count": 143,
     "metadata": {},
     "output_type": "execute_result"
    }
   ],
   "source": [
    "yh = modelp(xp_.float())\n",
    "np.mean(yh.detach().numpy().argmax(-1) == y.numpy())"
   ]
  }
 ],
 "metadata": {
  "kernelspec": {
   "display_name": "Python 3 (ipykernel)",
   "language": "python",
   "name": "python3"
  },
  "language_info": {
   "codemirror_mode": {
    "name": "ipython",
    "version": 3
   },
   "file_extension": ".py",
   "mimetype": "text/x-python",
   "name": "python",
   "nbconvert_exporter": "python",
   "pygments_lexer": "ipython3",
   "version": "3.8.8"
  }
 },
 "nbformat": 4,
 "nbformat_minor": 5
}
